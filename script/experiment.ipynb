{
 "cells": [
  {
   "cell_type": "code",
   "execution_count": 13,
   "metadata": {},
   "outputs": [
    {
     "name": "stdout",
     "output_type": "stream",
     "text": [
      "25 rows written.\n"
     ]
    }
   ],
   "source": [
    "# Libraries used\n",
    "\n",
    "import requests\n",
    "import csv\n",
    "import time\n",
    "\n",
    "# Variables\n",
    "\n",
    "# Reddit API needs this\n",
    "\n",
    "headers = {'User-agent': 'Mozilla/5.0'}\n",
    "\n",
    "after = None\n",
    "\n",
    "# Feature lists for CSV File\n",
    "\n",
    "fieldnames = ['approved_at_utc', 'subreddit', 'selftext', 'author_fullname', 'saved', 'mod_reason_title', 'gilded',\n",
    "              'clicked', 'title', 'link_flair_richtext', 'subreddit_name_prefixed', 'hidden', 'pwls',\n",
    "              'link_flair_css_class', 'downs', 'thumbnail_height', 'top_awarded_type', 'hide_score', 'media_metadata',\n",
    "              'name', 'quarantine', 'link_flair_text_color', 'upvote_ratio', 'author_flair_background_color', 'ups',\n",
    "              'total_awards_received', 'media_embed', 'thumbnail_width', 'author_flair_template_id',\n",
    "              'is_original_content', 'user_reports', 'secure_media', 'is_reddit_media_domain', 'is_meta', 'category',\n",
    "              'secure_media_embed', 'link_flair_text', 'can_mod_post', 'score', 'approved_by', 'is_created_from_ads_ui',\n",
    "              'author_premium', 'thumbnail', 'edited', 'author_flair_css_class', 'author_flair_richtext', 'gildings',\n",
    "              'post_hint', 'content_categories', 'is_self', 'subreddit_type', 'created', 'link_flair_type', 'wls',\n",
    "              'removed_by_category', 'banned_by', 'author_flair_type', 'domain', 'allow_live_comments', 'selftext_html',\n",
    "              'likes', 'suggested_sort', 'banned_at_utc', 'view_count', 'archived', 'no_follow', 'is_crosspostable',\n",
    "              'pinned', 'over_18', 'preview', 'all_awardings', 'awarders', 'media_only', 'link_flair_template_id',\n",
    "              'can_gild', 'spoiler', 'locked', 'author_flair_text', 'treatment_tags', 'visited', 'removed_by',\n",
    "              'mod_note', 'distinguished', 'subreddit_id', 'author_is_blocked', 'mod_reason_by', 'num_reports',\n",
    "              'removal_reason', 'link_flair_background_color', 'id', 'is_robot_indexable', 'report_reasons', 'author',\n",
    "              'discussion_type', 'num_comments', 'send_replies', 'whitelist_status', 'contest_mode', 'mod_reports',\n",
    "              'author_patreon_flair', 'author_flair_text_color', 'permalink', 'parent_whitelist_status', 'stickied',\n",
    "              'url', 'subreddit_subscribers', 'created_utc', 'num_crossposts', 'media', 'is_video',\n",
    "              'url_overridden_by_dest', 'gallery_data', 'is_gallery', 'author_cakeday']\n",
    "\n",
    "# Subreddit Name\n",
    "\n",
    "subreddit = \"r/confessions\"\n",
    "\n",
    "# No. of rows\n",
    "\n",
    "num_rows = 0\n",
    "\n",
    "# writes to a csv called 'data.csv' in python\n",
    "with open('data.csv', 'w', newline='', encoding=\"utf-8\") as file:\n",
    "    file_writer = csv.DictWriter(file, fieldnames=fieldnames)\n",
    "    file_writer.writeheader()\n",
    "\n",
    "    for _ in range(1):  # Loop 4 times to get 100 posts, 25 each time\n",
    "        subreddit_url = 'https://www.reddit.com/' + subreddit + '/.json'\n",
    "        if after:\n",
    "            subreddit_url += '?after=' + after\n",
    "        r = requests.get(subreddit_url, headers=headers)\n",
    "        data = r.json()  # Parse JSON data\n",
    "\n",
    "        # Adds the scraped data (fieldnames) into rows in our csv\n",
    "        for post in data['data']['children']:\n",
    "            file_writer.writerow(post['data'])\n",
    "\n",
    "        after = data['data']['after']\n",
    "\n",
    "        num_rows += 25\n",
    "        print(str(num_rows) + \" rows written.\")\n",
    "        time.sleep(4)  # sleep for 2 seconds to avoid hitting Reddit's rate limit\n",
    "\n",
    "file.close()"
   ]
  },
  {
   "cell_type": "code",
   "execution_count": 17,
   "metadata": {},
   "outputs": [
    {
     "name": "stdout",
     "output_type": "stream",
     "text": [
      "10 rows written.\n"
     ]
    }
   ],
   "source": [
    "# Libraries used\n",
    "\n",
    "import requests\n",
    "import csv\n",
    "import time\n",
    "\n",
    "# Variables\n",
    "\n",
    "# Reddit API needs this\n",
    "\n",
    "headers = {'User-agent': 'Mozilla/5.0'}\n",
    "\n",
    "after = None\n",
    "\n",
    "# Feature lists for CSV File\n",
    "\n",
    "fieldnames = ['title', 'selftext']\n",
    "\n",
    "# Subreddit Name\n",
    "\n",
    "subreddit = \"r/confessions\"\n",
    "\n",
    "# No. of rows\n",
    "\n",
    "num_rows = 0\n",
    "\n",
    "# writes to a csv called 'data.csv' in python\n",
    "with open('data.csv', 'w', newline='', encoding=\"utf-8\") as file:\n",
    "    file_writer = csv.DictWriter(file, fieldnames=fieldnames)\n",
    "    file_writer.writeheader()\n",
    "\n",
    "    for _ in range(1):  # Loop 4 times to get 100 posts, 25 each time\n",
    "        subreddit_url = 'https://www.reddit.com/' + subreddit + '/.json'\n",
    "        if after:\n",
    "            subreddit_url += '?after=' + after\n",
    "        r = requests.get(subreddit_url, headers=headers)\n",
    "        data = r.json()  # Parse JSON data\n",
    "\n",
    "        # Adds the scraped data (fieldnames) into rows in our csv\n",
    "        for post in data['data']['children']:\n",
    "            post_data = post['data']\n",
    "            file_writer.writerow({'title': post_data['title'], 'selftext': post_data['selftext']})\n",
    "\n",
    "        after = data['data']['after']\n",
    "\n",
    "        num_rows += 1\n",
    "        print(str(num_rows) + \" rows written.\")\n",
    "        time.sleep(4)  # sleep for 2 seconds to avoid hitting Reddit's rate limit\n",
    "\n",
    "file.close()"
   ]
  },
  {
   "cell_type": "code",
   "execution_count": 16,
   "metadata": {},
   "outputs": [
    {
     "name": "stdout",
     "output_type": "stream",
     "text": [
      "I know this can sound pathetic,  but i can't stop thinking of this woman Heather that i went to high-school with. For context we graduated in 1993.  From the first time I saw her when her family moved here which I believe  we were in 7th grade I was in love at first site. For years we would talk as friends. Then when I was in 11th grade I had my license and was driving her to school every day. Half way through the year, I finally grew some balls and asked her on the way to school if I could get her out of school,  would she spend the day with me. To my surprise, she said yes!.  We went for a walk in the local metro parks, went bowling, went and saw the movie bodyguard,  and went to the local pizza place. Probably the best day of my life. Her smile and eyes made my stomach  flurry with butterflies. I was chicken and did not try to kiss her.  We had different  friend groups and didn't hang out besides that day. We ended up ditching school 3 more times and had tons of fun, still being a chicken i never tried to kiss her or tell her my feelings. We started talking on the phone  which was on a landline because there was no cell phones. I was on top of the world. Then we graduated and she went away to college far away. A piece of me died a little. We lost contact ugh.  Don't get me wrong , I married a beautiful, loving woman and we have been married 28 years and have had 2 wonderful children.  I love my wife and would never cheat on her. About 2 years ago, by chance I saw Heather at a subway sandwich shop.  My heart dropped, she looked  more beautiful now than I remembered. She recognized me. We talked for about 15 minutes.  She is a nurse, married with children and happy.  I am happy for her, but i can't stop thinking of her smile. I can't stop thinking about why didn't I make a move, tell her my feelings way back when. I am literally loosing sleep over this. I wish I could stop thinking about her. I have a great life, the perfect wife. Yes I have tried therapy, even tried being hypnotized but with no effect.  HELP!!!\n",
      "Can't stop thinking of girl from high-school from 30 years ago\n"
     ]
    }
   ],
   "source": [
    "import requests\n",
    "import csv\n",
    "import time\n",
    "\n",
    "fieldnames = ['title', 'selftext']\n",
    "headers = {'User-agent': 'Mozilla/5.0'}\n",
    "\n",
    "with open('data.csv', 'w', newline='', encoding=\"utf-8\") as file:\n",
    "    file_writer = csv.DictWriter(file, fieldnames=fieldnames)\n",
    "    file_writer.writeheader()\n",
    "\n",
    "    reddit_url = \"https://www.reddit.com/r/confession/comments/1hflol8/cant_stop_thinking_of_girl_from_highschool_from/.json\"\n",
    "    r = requests.get(reddit_url, headers=headers)\n",
    "    data = r.json()  # Parse JSON data\n",
    "\n",
    "    post_data = data[0]\n",
    "    print(data[0]['data']['children'][0]['data']['selftext'])\n",
    "    print(data[0]['data']['children'][0]['data']['title'])\n"
   ]
  },
  {
   "cell_type": "markdown",
   "metadata": {},
   "source": [
    "Self Text + Title"
   ]
  },
  {
   "cell_type": "code",
   "execution_count": 15,
   "metadata": {},
   "outputs": [
    {
     "name": "stdout",
     "output_type": "stream",
     "text": [
      "I know this can sound pathetic,  but i can't stop thinking of this woman Heather that i went to high-school with. For context we graduated in 1993.  From the first time I saw her when her family moved here which I believe  we were in 7th grade I was in love at first site. For years we would talk as friends. Then when I was in 11th grade I had my license and was driving her to school every day. Half way through the year, I finally grew some balls and asked her on the way to school if I could get her out of school,  would she spend the day with me. To my surprise, she said yes!.  We went for a walk in the local metro parks, went bowling, went and saw the movie bodyguard,  and went to the local pizza place. Probably the best day of my life. Her smile and eyes made my stomach  flurry with butterflies. I was chicken and did not try to kiss her.  We had different  friend groups and didn't hang out besides that day. We ended up ditching school 3 more times and had tons of fun, still being a chicken i never tried to kiss her or tell her my feelings. We started talking on the phone  which was on a landline because there was no cell phones. I was on top of the world. Then we graduated and she went away to college far away. A piece of me died a little. We lost contact ugh.  Don't get me wrong , I married a beautiful, loving woman and we have been married 28 years and have had 2 wonderful children.  I love my wife and would never cheat on her. About 2 years ago, by chance I saw Heather at a subway sandwich shop.  My heart dropped, she looked  more beautiful now than I remembered. She recognized me. We talked for about 15 minutes.  She is a nurse, married with children and happy.  I am happy for her, but i can't stop thinking of her smile. I can't stop thinking about why didn't I make a move, tell her my feelings way back when. I am literally loosing sleep over this. I wish I could stop thinking about her. I have a great life, the perfect wife. Yes I have tried therapy, even tried being hypnotized but with no effect.  HELP!!!\n"
     ]
    }
   ],
   "source": [
    "print(data[0]['data']['children'][0]['data']['selftext'])"
   ]
  }
 ],
 "metadata": {
  "kernelspec": {
   "display_name": "hack",
   "language": "python",
   "name": "python3"
  },
  "language_info": {
   "codemirror_mode": {
    "name": "ipython",
    "version": 3
   },
   "file_extension": ".py",
   "mimetype": "text/x-python",
   "name": "python",
   "nbconvert_exporter": "python",
   "pygments_lexer": "ipython3",
   "version": "3.11.5"
  }
 },
 "nbformat": 4,
 "nbformat_minor": 2
}
